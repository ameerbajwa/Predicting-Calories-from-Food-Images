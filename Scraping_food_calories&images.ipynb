{
 "cells": [
  {
   "cell_type": "code",
   "execution_count": 1,
   "metadata": {
    "collapsed": true
   },
   "outputs": [],
   "source": [
    "import numpy as np\n",
    "import pandas as pd\n",
    "import collections\n",
    "\n",
    "from selenium import webdriver\n",
    "from bs4 import BeautifulSoup\n",
    "from selenium.webdriver.common.keys import Keys\n",
    "\n",
    "import sys\n",
    "import requests\n",
    "import time\n",
    "import random\n",
    "import os\n",
    "import pickle\n",
    "import string\n",
    "\n",
    "from fake_useragent import UserAgent\n",
    "ua = UserAgent()\n",
    "user_agent = {'User-Agent':ua.random}"
   ]
  },
  {
   "cell_type": "code",
   "execution_count": null,
   "metadata": {
    "collapsed": true
   },
   "outputs": [],
   "source": [
    "restaurant_urls = []"
   ]
  },
  {
   "cell_type": "code",
   "execution_count": null,
   "metadata": {
    "collapsed": true
   },
   "outputs": [],
   "source": [
    "chromedriver = \"/Applications/chromedriver\"\n",
    "os.environ[\"webdriver.chrome.driver\"] = chromedriver\n",
    "\n",
    "driver = webdriver.Chrome(chromedriver)"
   ]
  },
  {
   "cell_type": "code",
   "execution_count": null,
   "metadata": {
    "collapsed": true,
    "scrolled": true
   },
   "outputs": [],
   "source": [
    "for i in range(1,21):\n",
    "    num = str(i)\n",
    "    print (num)\n",
    "    driver.get('https://www.nutritionix.com/brands/restaurant?page='+num)\n",
    "    time.sleep(10)\n",
    "    \n",
    "    elems = driver.find_elements_by_xpath(\"//a[@href]\")\n",
    "    for elem in elems:\n",
    "        if 'products' in elem.get_attribute('href'):\n",
    "            restaurant_urls.append(elem.get_attribute('href'))\n",
    "            print (elem.get_attribute('href'))"
   ]
  },
  {
   "cell_type": "code",
   "execution_count": null,
   "metadata": {
    "collapsed": true
   },
   "outputs": [],
   "source": [
    "# restaurant = driver.find_element_by_xpath(\"//div[@class='row item-title bg-white-padding']\")\n",
    "# h1[@class='food-item-name ng-scope']\")\n",
    "# restaurtant_name = restaurant.get_attribute('h1').text\n",
    "# print (restaurtant_name)\n",
    "\n",
    "# restaurant = driver.find_element_by_class_name(\"as-table-cell\")\n",
    "\n",
    "print (len(restaurant_urls))\n",
    "restaurant_urls[272]"
   ]
  },
  {
   "cell_type": "code",
   "execution_count": null,
   "metadata": {
    "collapsed": true,
    "scrolled": true
   },
   "outputs": [],
   "source": [
    "food_labels = {}\n",
    "\n",
    "for url in restaurant_urls[272:280]:\n",
    "    print (url)\n",
    "    driver.get(url)\n",
    "    time.sleep(10)\n",
    "    \n",
    "    lastpage = driver.find_element_by_xpath(\"//li[@class='pagination-last ng-scope']//a[@href]\")\n",
    "    if '=' in lastpage.get_attribute('href')[-2:]:\n",
    "        number_of_pages = lastpage.get_attribute('href')[-1]\n",
    "    else:\n",
    "        number_of_pages = lastpage.get_attribute('href')[-2:]\n",
    "    \n",
    "    restaurant_name = driver.find_element_by_xpath(\"//div[@class='as-table-cell']//h1\").text\n",
    "#     name = lambda x:x not in string.punctuation\n",
    "#     restaurant_name = str(filter(name, restaurant_name))\n",
    "    food_labels[restaurant_name] = {}\n",
    "    print (restaurant_name)\n",
    "\n",
    "    j = 1\n",
    "    while j <= int(number_of_pages):\n",
    "        table = driver.find_elements_by_xpath(\"//table[@class='table table-brands-list']//tr\")\n",
    "        for i in range(1,len(table)):\n",
    "            food_item, cal = table[i].text.split(\"\\n\")\n",
    "            print (food_item)\n",
    "            calories = cal.split()[-1]\n",
    "            print (calories)\n",
    "#            food_cal[food_item]=calories\n",
    "            food_labels[restaurant_name][food_item]=calories\n",
    "    \n",
    "        if j != int(number_of_pages):\n",
    "            driver.find_element_by_xpath(\"//li[@class='pagination-next ng-scope']//a[@rel='next']\").click()\n",
    "        else:\n",
    "            break\n",
    "        time.sleep(2)\n",
    "        j += 1"
   ]
  },
  {
   "cell_type": "code",
   "execution_count": null,
   "metadata": {
    "collapsed": true
   },
   "outputs": [],
   "source": [
    "for key, d in food_labels.items():\n",
    "    print (key)"
   ]
  },
  {
   "cell_type": "code",
   "execution_count": null,
   "metadata": {
    "collapsed": true
   },
   "outputs": [],
   "source": [
    "with open('food_labels_260-269.pickle', 'wb') as handle:\n",
    "    pickle.dump(food_labels, handle, protocol=pickle.HIGHEST_PROTOCOL)"
   ]
  },
  {
   "cell_type": "code",
   "execution_count": null,
   "metadata": {
    "collapsed": true
   },
   "outputs": [],
   "source": []
  },
  {
   "cell_type": "code",
   "execution_count": 4,
   "metadata": {
    "collapsed": true
   },
   "outputs": [],
   "source": [
    "chromedriver = \"/Applications/chromedriver\"\n",
    "os.environ[\"webdriver.chrome.driver\"] = chromedriver\n",
    "\n",
    "driver_google = webdriver.Chrome(chromedriver)"
   ]
  },
  {
   "cell_type": "code",
   "execution_count": 5,
   "metadata": {
    "scrolled": true
   },
   "outputs": [],
   "source": [
    "fo = open('food_images/IHOP_images.txt','w')\n",
    "\n",
    "with open('food_labels_27-40.pickle', 'rb') as file:\n",
    "    ressies = pickle.load(file)\n",
    "    b = 'IHOP'\n",
    "    \n",
    "    x = ressies[b]\n",
    "    for food_item, calories in x.items():\n",
    "        driver_google.get('https://www.google.com/imghp?hl=en&tab=wi')\n",
    "        time.sleep(5)\n",
    "            \n",
    "        query = driver_google.find_element_by_xpath(\"//*[@id='lst-ib']\")\n",
    "        query.send_keys(b+' '+food_item)\n",
    "        query.send_keys(Keys.RETURN)\n",
    "        time.sleep(5)     \n",
    "            \n",
    "        i = 0\n",
    "        while i < 3:\n",
    "            j = str(i)\n",
    "            driver_google.find_element_by_xpath(\"//div[@data-ri='\"+j+\"']//img[@class='rg_ic rg_i']\").click()\n",
    "            time.sleep(5)\n",
    "            image = driver_google.find_element_by_xpath(\"//div[@id='irc_bg']//img[@class='irc_mi']\").get_attribute(\"src\")\n",
    "                \n",
    "            fo.write(str(image)+'\\n')\n",
    "            i += 1   \n",
    "\"\"\"\n",
    "#    for restaurant, items in ressies.items():\n",
    "    for food_item, calories in ressies['Burger King'].items():\n",
    "        driver_google.get('https://www.google.com/imghp?hl=en&tab=wi')\n",
    "        time.sleep(5)\n",
    "            \n",
    "        query = driver_google.find_element_by_xpath(\"//*[@id='lst-ib']\")\n",
    "        query.send_keys(restaurant+' '+food_item)\n",
    "        query.send_keys(Keys.RETURN)\n",
    "        time.sleep(5)     \n",
    "            \n",
    "        i = 0\n",
    "        while i < 3:\n",
    "            j = str(i)\n",
    "            driver_google.find_element_by_xpath(\"//div[@data-ri='\"+j+\"']//img[@class='rg_ic rg_i']\").click()\n",
    "            time.sleep(5)\n",
    "            image = driver_google.find_element_by_xpath(\"//div[@id='irc_bg']//img[@class='irc_mi']\").get_attribute(\"src\")\n",
    "                \n",
    "            fo.write(str(image)+'\\n')\n",
    "            i += 1   \n",
    "\"\"\"\n",
    "fo.close()               "
   ]
  },
  {
   "cell_type": "code",
   "execution_count": null,
   "metadata": {
    "collapsed": true
   },
   "outputs": [],
   "source": []
  },
  {
   "cell_type": "code",
   "execution_count": null,
   "metadata": {
    "collapsed": true
   },
   "outputs": [],
   "source": []
  },
  {
   "cell_type": "code",
   "execution_count": null,
   "metadata": {
    "collapsed": true
   },
   "outputs": [],
   "source": [
    "chromedriver = \"/Applications/chromedriver\"\n",
    "os.environ[\"webdriver.chrome.driver\"] = chromedriver\n",
    "\n",
    "driver_google = webdriver.Chrome(chromedriver)"
   ]
  },
  {
   "cell_type": "code",
   "execution_count": null,
   "metadata": {
    "collapsed": true
   },
   "outputs": [],
   "source": [
    "driver_google.get('https://www.google.com/imghp?hl=en&tab=wi')\n",
    "time.sleep(1)\n",
    "            \n",
    "query = driver_google.find_element_by_xpath(\"//*[@id='lst-ib']\")\n",
    "query.send_keys('hot dog')\n",
    "query.send_keys(Keys.RETURN)\n",
    "time.sleep(1)"
   ]
  },
  {
   "cell_type": "code",
   "execution_count": null,
   "metadata": {
    "collapsed": true
   },
   "outputs": [],
   "source": [
    "driver_google.find_element_by_xpath(\"//div[@data-ri='0']//img[@class='rg_ic rg_i']\").click()"
   ]
  },
  {
   "cell_type": "code",
   "execution_count": null,
   "metadata": {
    "collapsed": true,
    "scrolled": false
   },
   "outputs": [],
   "source": [
    "image = driver_google.find_element_by_xpath(\"//div[@id='irc_bg']//img[@class='irc_mi']\").get_attribute(\"src\")"
   ]
  },
  {
   "cell_type": "code",
   "execution_count": null,
   "metadata": {
    "collapsed": true
   },
   "outputs": [],
   "source": [
    "str(image)"
   ]
  },
  {
   "cell_type": "code",
   "execution_count": null,
   "metadata": {
    "collapsed": true
   },
   "outputs": [],
   "source": [
    "!wget str(image)"
   ]
  },
  {
   "cell_type": "code",
   "execution_count": null,
   "metadata": {
    "collapsed": true
   },
   "outputs": [],
   "source": []
  },
  {
   "cell_type": "code",
   "execution_count": null,
   "metadata": {
    "collapsed": true
   },
   "outputs": [],
   "source": [
    "with open('food_lables_1-9.txt') as f:\n",
    "    n = 1\n",
    "    for line in f.readlines():\n",
    "        try:\n",
    "            urllib.request.urlretrieve(line,'/Users/nealcheng/Desktop/Zillow/bedroom/'+str(n)+'.jpg')\n",
    "            n += 1\n",
    "            print(n,'of',len(f.readlines()))\n",
    "        except:\n",
    "            n += 1"
   ]
  }
 ],
 "metadata": {
  "kernelspec": {
   "display_name": "Python 3",
   "language": "python",
   "name": "python3"
  },
  "language_info": {
   "codemirror_mode": {
    "name": "ipython",
    "version": 3
   },
   "file_extension": ".py",
   "mimetype": "text/x-python",
   "name": "python",
   "nbconvert_exporter": "python",
   "pygments_lexer": "ipython3",
   "version": "3.6.1"
  }
 },
 "nbformat": 4,
 "nbformat_minor": 2
}
